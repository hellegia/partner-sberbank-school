{
 "cells": [
  {
   "cell_type": "code",
   "execution_count": 8,
   "metadata": {},
   "outputs": [],
   "source": [
    "mylist = []\n",
    "with open('dataset_3363_4.txt') as inf:\n",
    "    for line in inf:\n",
    "        line = line.strip()\n",
    "        mylist.append(line.split(';'))\n",
    "avscores = []\n",
    "for item in mylist:\n",
    "    avscores.append((int(item[1])+int(item[2])+int(item[3]))/3)\n",
    "matem = []\n",
    "phys = []\n",
    "russ = []\n",
    "for item in mylist:\n",
    "    matem.append(int(item[1]))\n",
    "    phys.append(int(item[2]))\n",
    "    russ.append(int(item[3]))\n",
    "with open('output.txt','w') as ouf:\n",
    "    for item in avscores:\n",
    "        ouf.write(str(item)+'\\n')\n",
    "    ouf.write(str(sum(matem)/len(matem))+' ')\n",
    "    ouf.write(str(sum(phys)/len(phys))+' ')\n",
    "    ouf.write(str(sum(russ)/len(russ)))"
   ]
  },
  {
   "cell_type": "markdown",
   "metadata": {},
   "source": [
    "Имеется файл с данными по успеваемости абитуриентов. Он представляет из себя набор строк, где в каждой строке записана следующая информация:\n",
    "\n",
    "Фамилия;Оценка_по_математике;Оценка_по_физике;Оценка_по_русскому_языку\n",
    "\n",
    "Поля внутри строки разделены точкой с запятой, оценки — целые числа.\n",
    "\n",
    "Напишите программу, которая считывает исходный файл с подобной структурой и для каждого абитуриента записывает его среднюю оценку по трём предметам на отдельной строке, соответствующей этому абитуриенту, в файл с ответом.\n",
    "\n",
    "Также вычислите средние баллы по математике, физике и русскому языку по всем абитуриентам и добавьте полученные значения, разделённые пробелом, последней строкой в файл с ответом.\n",
    "\n",
    "В качестве ответа на задание прикрепите полученный файл со средними оценками по каждому ученику и одной строкой со средними оценками по трём предметам.\n",
    "\n",
    "Примечание. Для разбиения строки на части по символу ';' можно использовать метод split следующим образом:\n",
    "\n",
    "print('First;Second-1 Second-2;Third'.split(';'))\n",
    "# ['First', 'Second-1 Second-2', 'Third']"
   ]
  },
  {
   "cell_type": "code",
   "execution_count": null,
   "metadata": {},
   "outputs": [],
   "source": []
  }
 ],
 "metadata": {
  "kernelspec": {
   "display_name": "Python 3",
   "language": "python",
   "name": "python3"
  },
  "language_info": {
   "codemirror_mode": {
    "name": "ipython",
    "version": 3
   },
   "file_extension": ".py",
   "mimetype": "text/x-python",
   "name": "python",
   "nbconvert_exporter": "python",
   "pygments_lexer": "ipython3",
   "version": "3.7.6"
  }
 },
 "nbformat": 4,
 "nbformat_minor": 4
}
