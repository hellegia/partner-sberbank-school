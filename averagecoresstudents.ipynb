{
 "cells": [
  {
   "cell_type": "code",
   "execution_count": 8,
   "metadata": {},
   "outputs": [],
   "source": [
    "mylist = []\n",
    "with open('dataset_3363_4.txt') as inf:\n",
    "    for line in inf:\n",
    "        line = line.strip()\n",
    "        mylist.append(line.split(';'))\n",
    "avscores = []\n",
    "for item in mylist:\n",
    "    avscores.append((int(item[1])+int(item[2])+int(item[3]))/3)\n",
    "matem = []\n",
    "phys = []\n",
    "russ = []\n",
    "for item in mylist:\n",
    "    matem.append(int(item[1]))\n",
    "    phys.append(int(item[2]))\n",
    "    russ.append(int(item[3]))\n",
    "with open('output.txt','w') as ouf:\n",
    "    for item in avscores:\n",
    "        ouf.write(str(item)+'\\n')\n",
    "    ouf.write(str(sum(matem)/len(matem))+' ')\n",
    "    ouf.write(str(sum(phys)/len(phys))+' ')\n",
    "    ouf.write(str(sum(russ)/len(russ)))"
   ]
  },
  {
   "cell_type": "code",
   "execution_count": null,
   "metadata": {},
   "outputs": [],
   "source": []
  }
 ],
 "metadata": {
  "kernelspec": {
   "display_name": "Python 3",
   "language": "python",
   "name": "python3"
  },
  "language_info": {
   "codemirror_mode": {
    "name": "ipython",
    "version": 3
   },
   "file_extension": ".py",
   "mimetype": "text/x-python",
   "name": "python",
   "nbconvert_exporter": "python",
   "pygments_lexer": "ipython3",
   "version": "3.7.6"
  }
 },
 "nbformat": 4,
 "nbformat_minor": 4
}
