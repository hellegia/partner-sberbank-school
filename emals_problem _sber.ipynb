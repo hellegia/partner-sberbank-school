{
 "cells": [
  {
   "cell_type": "code",
   "execution_count": 119,
   "metadata": {},
   "outputs": [
    {
     "name": "stdout",
     "output_type": "stream",
     "text": [
      "[['EMAIL', 'NAME', 'LAST_NAME', 'TEL', 'CITY'], ['Abramov.I@company.io', 'Ivan', 'Abramov', '7776514', 'Moscow'], ['Nikolaev.A@company.io', 'Alexey', 'Nikolaev', '1348520', 'Moscow'], ['Shapar.M@company.io', 'Marina', 'Shapar', '1111110', 'Moscow'], ['Vasilyev.D@company.io', 'Dmitriy', 'Vasilyev', '0000000', 'Kazan'], ['Адресневозможносоздать', 'Ekaterina', 'Ilyina', '', 'St.Petersburg'], ['Grigoryan.A@company.io', 'Anastasiya', 'Grigoryan', '1928421', 'Ekaterinburg'], ['Fedorov.A@company.io', 'Andrey', 'Fedorov', '85212384', 'Minsk'], ['Lisitsyn.A@company.io', 'Alexey', 'Lisitsyn', '1239532', 'Tver'], ['Abramova.D@company.io', 'Dariya', 'Abramova', '7163908', 'Moscow'], ['Адресневозможносоздать', 'Alexandr', 'Evdokimov', '482', 'Volokolamsk'], ['Kostina.N@company.io', 'Nataliya', 'Kostina', '9031433', 'Moscow'], ['Ermolin.N@company.io', 'Nikolay', 'Ermolin', '8539233', 'St.Petersburg'], ['Адресневозможносоздать', '', '', '', ''], ['Solovovo.V@company.io', 'Vladimir', 'Solovovo', '4758395', 'St.Petersburg'], ['Ivanov.V@company.io', 'Vladimir', 'Ivanov', '4827594', 'Novosibirsk'], ['Nikolaev.S@company.io', 'Sergey', 'Nikolaev', '1294375', 'Sarov'], ['Ivanov.I@company.io', 'Ivan', 'Ivanov', '8532354', 'Kazan'], ['Semenov.K@company.io', 'Konstantin', 'Semenov', '8532286', 'Moscow'], ['Smirnov.G@company.io', 'Grigoriy', 'Smirnov', '3249235', 'Kaliningrad'], ['Адресневозможносоздать', 'Vasiliy', '', '7123465', 'Moscow'], ['Lashko.A@company.io', 'Alexandr', 'Lashko', '9548324', 'St.Petersburg'], ['dwfef.s@company.io', 'sdfsdf', 'dwfef', '9994532', 'Rostov'], ['Edger.O@company.io', 'Oksana', 'Edger', '8548433', 'Kostroma'], ['Bogomolova.O@company.io', 'Olga', 'Bogomolova', '8953253', 'Moscow'], ['Strizh.E@company.io', 'Evgeniy', 'Strizh', '1123313', 'Krasnodar'], ['Sergach.V@company.io', 'Valentina', 'Sergach', '12345567', 'St.Petersburg'], ['Volskaya.P@company.io', 'Polina', 'Volskaya', '1394542', 'Vladimir'], ['Malinin.F@company.io', 'Fedor', 'Malinin', '9453223', 'Moscow'], ['Pahomova.O@company.io', 'Olga', 'Pahomova', '8543231', 'Moscow'], ['Адресневозможносоздать', 'ffff', 'ffff', 'ffff', 'fffff'], ['Bogdanov.S@company.io', 'Stepan', 'Bogdanov', '4564624', 'St.Petersburg'], ['Smirnov.D@company.io', 'Dmitriy', 'Smirnov', '9355r24', 'Kazan'], ['Kolokolkina.V@company.io', 'Valeria', 'Kolokolkina', '12O4352', 'St.Petersburg'], ['Sobolev.I@company.io', 'Ivan', 'Sobolev', '2350223', 'Kirov'], ['Orlova.K@company.io', 'Kristina', 'Orlova', '1342349', 'Talnakh'], ['Ermolin.A@company.io', 'Alexandr', 'Ermolin', '2345234', 'Mozhaysk'], ['Vasilevskaya.E@company.io', 'Ekaterina', 'Vasilevskaya', '9583573', 'Moscow'], ['Koroleva.T@company.io', 'Tatiana', 'Koroleva', '8674532', 'Vidnoe'], ['Moskvina.E@company.io', 'Elena', 'Moskvina', '7584294', 'Moscow'], ['Адресневозможносоздать', '', '', '8954245', 'Moscow'], ['Sinev.M@company.io', 'Mikhail', 'Sinev', '5964353', 'St.Petersburg'], ['NO_NAME.N@company.io', 'NO_NAME', 'NO_NAME', '2856735', 'Kaliningrad'], ['Boshich.A@company.io', 'Anastasiya', 'Boshich', '9654534', 'Omsk'], ['Kapustina.S@company.io', 'Svetlana', 'Kapustina', '9476353', 'Moscow'], ['Nikolaev.B@company.io', 'Boris', 'Nikolaev', '9583583', 'Moscow'], ['Mozgvin.A@company.io', 'Andrey', 'Mozgvin', '8537572', 'Krasnodar'], ['Bogatyreva.O@company.io', 'Oksana', 'Bogatyreva', '8743565', 'St.Petersburg'], ['Nosatenko.K@company.io', 'Kseniya', 'Nosatenko', '1234194', 'Yaroslavl'], ['sfewrfw.f@company.io', 'fwefwgwgwfds', 'sfewrfw', '9584356', 'Pskov'], ['Grigoriev.K@company.io', 'Konstantin', 'Grigoriev', '1284575', 'Moscow']]\n"
     ]
    }
   ],
   "source": [
    "f = open('task_file.txt', 'r')\n",
    "new_list = []\n",
    "for line in f:\n",
    "    line = ''.join(line.split())\n",
    "    small_list = []\n",
    "    small_list = line.split(',')\n",
    "    new_list.append(small_list)\n",
    "name_lastname = []\n",
    "import copy\n",
    "name_lastname = copy.deepcopy(new_list) \n",
    "name_lastname.pop(0)\n",
    "for element in name_lastname:\n",
    "    element.pop(0)\n",
    "    element.pop(2)\n",
    "    element.pop(2)\n",
    "print(new_list)\n",
    "f.close()"
   ]
  },
  {
   "cell_type": "code",
   "execution_count": 120,
   "metadata": {},
   "outputs": [
    {
     "name": "stdout",
     "output_type": "stream",
     "text": [
      "['Abramov.I@company.io', 'Nikolaev.A@company.io', 'Shapar.M@company.io', 'Vasilyev.D@company.io', 'Ilyina.E@company.io', 'Grigoryan.A@company.io', 'Fedorov.A@company.io', 'Lisitsyn.A@company.io', 'Abramova.D@company.io', 'Evdokimov.A@company.io', 'Kostina.N@company.io', 'Ermolin.N@company.io', '.@company.io', 'Solovovo.V@company.io', 'Ivanov.V@company.io', 'Nikolaev.S@company.io', 'Ivanov.I@company.io', 'Semenov.K@company.io', 'Smirnov.G@company.io', '.V@company.io', 'Lashko.A@company.io', 'dwfef.s@company.io', 'Edger.O@company.io', 'Bogomolova.O@company.io', 'Strizh.E@company.io', 'Sergach.V@company.io', 'Volskaya.P@company.io', 'Malinin.F@company.io', 'Pahomova.O@company.io', 'ffff.f@company.io', 'Bogdanov.S@company.io', 'Smirnov.D@company.io', 'Kolokolkina.V@company.io', 'Sobolev.I@company.io', 'Orlova.K@company.io', 'Ermolin.A@company.io', 'Vasilevskaya.E@company.io', 'Koroleva.T@company.io', 'Moskvina.E@company.io', '.@company.io', 'Sinev.M@company.io', 'NO_NAME.N@company.io', 'Boshich.A@company.io', 'Kapustina.S@company.io', 'Nikolaev.B@company.io', 'Mozgvin.A@company.io', 'Bogatyreva.O@company.io', 'Nosatenko.K@company.io', 'sfewrfw.f@company.io', 'Grigoriev.K@company.io']\n"
     ]
    }
   ],
   "source": [
    "def email_gen(list_of_names):\n",
    "    emails = []\n",
    "    for i in list_of_names:\n",
    "        letter = 1\n",
    "        if i[1] + '.' + i[0][0:letter] + '@company.io' in emails:\n",
    "            letter+=1\n",
    "        emails.append(i[1] + '.' + i[0][0:letter] + '@company.io')\n",
    "    return emails\n",
    "print(email_gen(name_lastname))"
   ]
  },
  {
   "cell_type": "code",
   "execution_count": 114,
   "metadata": {},
   "outputs": [
    {
     "name": "stdout",
     "output_type": "stream",
     "text": [
      "[['EMAIL', 'NAME', 'LAST_NAME', 'TEL', 'CITY'], ['Abramov.I@company.io', 'Ivan', 'Abramov', '7776514', 'Moscow'], ['Nikolaev.A@company.io', 'Alexey', 'Nikolaev', '1348520', 'Moscow'], ['Shapar.M@company.io', 'Marina', 'Shapar', '1111110', 'Moscow'], ['Vasilyev.D@company.io', 'Dmitriy', 'Vasilyev', '0000000', 'Kazan'], ['Ilyina.E@company.io', 'Ekaterina', 'Ilyina', '', 'St.Petersburg'], ['Grigoryan.A@company.io', 'Anastasiya', 'Grigoryan', '1928421', 'Ekaterinburg'], ['Fedorov.A@company.io', 'Andrey', 'Fedorov', '85212384', 'Minsk'], ['Lisitsyn.A@company.io', 'Alexey', 'Lisitsyn', '1239532', 'Tver'], ['Abramova.D@company.io', 'Dariya', 'Abramova', '7163908', 'Moscow'], ['Evdokimov.A@company.io', 'Alexandr', 'Evdokimov', '482', 'Volokolamsk'], ['Kostina.N@company.io', 'Nataliya', 'Kostina', '9031433', 'Moscow'], ['Ermolin.N@company.io', 'Nikolay', 'Ermolin', '8539233', 'St.Petersburg'], ['.@company.io', '', '', '', ''], ['Solovovo.V@company.io', 'Vladimir', 'Solovovo', '4758395', 'St.Petersburg'], ['Ivanov.V@company.io', 'Vladimir', 'Ivanov', '4827594', 'Novosibirsk'], ['Nikolaev.S@company.io', 'Sergey', 'Nikolaev', '1294375', 'Sarov'], ['Ivanov.I@company.io', 'Ivan', 'Ivanov', '8532354', 'Kazan'], ['Semenov.K@company.io', 'Konstantin', 'Semenov', '8532286', 'Moscow'], ['Smirnov.G@company.io', 'Grigoriy', 'Smirnov', '3249235', 'Kaliningrad'], ['.V@company.io', 'Vasiliy', '', '7123465', 'Moscow'], ['Lashko.A@company.io', 'Alexandr', 'Lashko', '9548324', 'St.Petersburg'], ['dwfef.s@company.io', 'sdfsdf', 'dwfef', '9994532', 'Rostov'], ['Edger.O@company.io', 'Oksana', 'Edger', '8548433', 'Kostroma'], ['Bogomolova.O@company.io', 'Olga', 'Bogomolova', '8953253', 'Moscow'], ['Strizh.E@company.io', 'Evgeniy', 'Strizh', '1123313', 'Krasnodar'], ['Sergach.V@company.io', 'Valentina', 'Sergach', '12345567', 'St.Petersburg'], ['Volskaya.P@company.io', 'Polina', 'Volskaya', '1394542', 'Vladimir'], ['Malinin.F@company.io', 'Fedor', 'Malinin', '9453223', 'Moscow'], ['Pahomova.O@company.io', 'Olga', 'Pahomova', '8543231', 'Moscow'], ['ffff.f@company.io', 'ffff', 'ffff', 'ffff', 'fffff'], ['Bogdanov.S@company.io', 'Stepan', 'Bogdanov', '4564624', 'St.Petersburg'], ['Smirnov.D@company.io', 'Dmitriy', 'Smirnov', '9355r24', 'Kazan'], ['Kolokolkina.V@company.io', 'Valeria', 'Kolokolkina', '12O4352', 'St.Petersburg'], ['Sobolev.I@company.io', 'Ivan', 'Sobolev', '2350223', 'Kirov'], ['Orlova.K@company.io', 'Kristina', 'Orlova', '1342349', 'Talnakh'], ['Ermolin.A@company.io', 'Alexandr', 'Ermolin', '2345234', 'Mozhaysk'], ['Vasilevskaya.E@company.io', 'Ekaterina', 'Vasilevskaya', '9583573', 'Moscow'], ['Koroleva.T@company.io', 'Tatiana', 'Koroleva', '8674532', 'Vidnoe'], ['Moskvina.E@company.io', 'Elena', 'Moskvina', '7584294', 'Moscow'], ['.@company.io', '', '', '8954245', 'Moscow'], ['Sinev.M@company.io', 'Mikhail', 'Sinev', '5964353', 'St.Petersburg'], ['NO_NAME.N@company.io', 'NO_NAME', 'NO_NAME', '2856735', 'Kaliningrad'], ['Boshich.A@company.io', 'Anastasiya', 'Boshich', '9654534', 'Omsk'], ['Kapustina.S@company.io', 'Svetlana', 'Kapustina', '9476353', 'Moscow'], ['Nikolaev.B@company.io', 'Boris', 'Nikolaev', '9583583', 'Moscow'], ['Mozgvin.A@company.io', 'Andrey', 'Mozgvin', '8537572', 'Krasnodar'], ['Bogatyreva.O@company.io', 'Oksana', 'Bogatyreva', '8743565', 'St.Petersburg'], ['Nosatenko.K@company.io', 'Kseniya', 'Nosatenko', '1234194', 'Yaroslavl'], ['sfewrfw.f@company.io', 'fwefwgwgwfds', 'sfewrfw', '9584356', 'Pskov'], ['Grigoriev.K@company.io', 'Konstantin', 'Grigoriev', '1284575', 'Moscow']]\n"
     ]
    }
   ],
   "source": [
    "tittle_list = ['EMAIL', 'NAME', 'LAST_NAME', 'TEL', 'CITY']\n",
    "new_list.pop(0)\n",
    "for elements in new_list:\n",
    "    elements[0] = email_gen(name_lastname)[new_list.index(elements)]\n",
    "new_list.reverse()\n",
    "new_list.append(tittle_list)\n",
    "new_list.reverse()\n",
    "print(new_list)\n",
    "for items in new_list:\n",
    "    if len(items[3])<=6:\n",
    "        items[0] = 'Адрес невозможно создать'\n",
    "    if (items[1] == '') or (items[2] == '') or (items[4] == ''):\n",
    "        items[0] = 'Адрес невозможно создать'\n",
    "new_list[0][0] = 'EMAIL'"
   ]
  },
  {
   "cell_type": "code",
   "execution_count": 121,
   "metadata": {},
   "outputs": [
    {
     "name": "stdout",
     "output_type": "stream",
     "text": [
      "EMAIL, NAME, LAST_NAME, TEL, CITY\n",
      "Abramov.I@company.io, Ivan, Abramov, 7776514, Moscow\n",
      "Nikolaev.A@company.io, Alexey, Nikolaev, 1348520, Moscow\n",
      "Shapar.M@company.io, Marina, Shapar, 1111110, Moscow\n",
      "Vasilyev.D@company.io, Dmitriy, Vasilyev, 0000000, Kazan\n",
      "Адресневозможносоздать, Ekaterina, Ilyina, , St.Petersburg\n",
      "Grigoryan.A@company.io, Anastasiya, Grigoryan, 1928421, Ekaterinburg\n",
      "Fedorov.A@company.io, Andrey, Fedorov, 85212384, Minsk\n",
      "Lisitsyn.A@company.io, Alexey, Lisitsyn, 1239532, Tver\n",
      "Abramova.D@company.io, Dariya, Abramova, 7163908, Moscow\n",
      "Адресневозможносоздать, Alexandr, Evdokimov, 482, Volokolamsk\n",
      "Kostina.N@company.io, Nataliya, Kostina, 9031433, Moscow\n",
      "Ermolin.N@company.io, Nikolay, Ermolin, 8539233, St.Petersburg\n",
      "Адресневозможносоздать, , , , \n",
      "Solovovo.V@company.io, Vladimir, Solovovo, 4758395, St.Petersburg\n",
      "Ivanov.V@company.io, Vladimir, Ivanov, 4827594, Novosibirsk\n",
      "Nikolaev.S@company.io, Sergey, Nikolaev, 1294375, Sarov\n",
      "Ivanov.I@company.io, Ivan, Ivanov, 8532354, Kazan\n",
      "Semenov.K@company.io, Konstantin, Semenov, 8532286, Moscow\n",
      "Smirnov.G@company.io, Grigoriy, Smirnov, 3249235, Kaliningrad\n",
      "Адресневозможносоздать, Vasiliy, , 7123465, Moscow\n",
      "Lashko.A@company.io, Alexandr, Lashko, 9548324, St.Petersburg\n",
      "dwfef.s@company.io, sdfsdf, dwfef, 9994532, Rostov\n",
      "Edger.O@company.io, Oksana, Edger, 8548433, Kostroma\n",
      "Bogomolova.O@company.io, Olga, Bogomolova, 8953253, Moscow\n",
      "Strizh.E@company.io, Evgeniy, Strizh, 1123313, Krasnodar\n",
      "Sergach.V@company.io, Valentina, Sergach, 12345567, St.Petersburg\n",
      "Volskaya.P@company.io, Polina, Volskaya, 1394542, Vladimir\n",
      "Malinin.F@company.io, Fedor, Malinin, 9453223, Moscow\n",
      "Pahomova.O@company.io, Olga, Pahomova, 8543231, Moscow\n",
      "Адресневозможносоздать, ffff, ffff, ffff, fffff\n",
      "Bogdanov.S@company.io, Stepan, Bogdanov, 4564624, St.Petersburg\n",
      "Smirnov.D@company.io, Dmitriy, Smirnov, 9355r24, Kazan\n",
      "Kolokolkina.V@company.io, Valeria, Kolokolkina, 12O4352, St.Petersburg\n",
      "Sobolev.I@company.io, Ivan, Sobolev, 2350223, Kirov\n",
      "Orlova.K@company.io, Kristina, Orlova, 1342349, Talnakh\n",
      "Ermolin.A@company.io, Alexandr, Ermolin, 2345234, Mozhaysk\n",
      "Vasilevskaya.E@company.io, Ekaterina, Vasilevskaya, 9583573, Moscow\n",
      "Koroleva.T@company.io, Tatiana, Koroleva, 8674532, Vidnoe\n",
      "Moskvina.E@company.io, Elena, Moskvina, 7584294, Moscow\n",
      "Адресневозможносоздать, , , 8954245, Moscow\n",
      "Sinev.M@company.io, Mikhail, Sinev, 5964353, St.Petersburg\n",
      "NO_NAME.N@company.io, NO_NAME, NO_NAME, 2856735, Kaliningrad\n",
      "Boshich.A@company.io, Anastasiya, Boshich, 9654534, Omsk\n",
      "Kapustina.S@company.io, Svetlana, Kapustina, 9476353, Moscow\n",
      "Nikolaev.B@company.io, Boris, Nikolaev, 9583583, Moscow\n",
      "Mozgvin.A@company.io, Andrey, Mozgvin, 8537572, Krasnodar\n",
      "Bogatyreva.O@company.io, Oksana, Bogatyreva, 8743565, St.Petersburg\n",
      "Nosatenko.K@company.io, Kseniya, Nosatenko, 1234194, Yaroslavl\n",
      "sfewrfw.f@company.io, fwefwgwgwfds, sfewrfw, 9584356, Pskov\n",
      "Grigoriev.K@company.io, Konstantin, Grigoriev, 1284575, Moscow\n"
     ]
    }
   ],
   "source": [
    "myfile = open ('task_file.txt', 'w')\n",
    "for elems in new_list:\n",
    "    mystring = ', '.join(elems)\n",
    "    print(mystring)\n",
    "    myfile.write(mystring)\n",
    "    myfile.write('\\n')\n",
    "myfile.close()"
   ]
  }
 ],
 "metadata": {
  "kernelspec": {
   "display_name": "Python 3",
   "language": "python",
   "name": "python3"
  },
  "language_info": {
   "codemirror_mode": {
    "name": "ipython",
    "version": 3
   },
   "file_extension": ".py",
   "mimetype": "text/x-python",
   "name": "python",
   "nbconvert_exporter": "python",
   "pygments_lexer": "ipython3",
   "version": "3.7.6"
  }
 },
 "nbformat": 4,
 "nbformat_minor": 4
}
