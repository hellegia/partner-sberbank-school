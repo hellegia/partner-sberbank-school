{
 "cells": [
  {
   "cell_type": "markdown",
   "metadata": {},
   "source": [
    "В заданиях к разделу \"Строки\" одна из задач состояла в написании программы, проверяющей надежность пароля. В данном упражнении вам необходимо написать функцию, которая будет генерировать тот самый надежный пароль случайным образом. Модуль random как раз поможет вам в этом. Давайте вспомним когда пароль считается надежным:\n",
    "1) Пароль содержит не менее 12 символов\n",
    "2) Пароль содержит хотя бы одну заглавную букву\n",
    "3) Пароль содержит хотя бы одну строчную букву\n",
    "4) Пароль содержит хотя бы одну цифру\n",
    "5) Пароль содержит хотя бы один спецсимвол"
   ]
  },
  {
   "cell_type": "code",
   "execution_count": 27,
   "metadata": {},
   "outputs": [
    {
     "name": "stdout",
     "output_type": "stream",
     "text": [
      "['5', 'v', 'X', ')']\n",
      "555))vvX5X))\n"
     ]
    }
   ],
   "source": [
    "import random\n",
    "from random import randint\n",
    "mypass = []\n",
    "numb = '1234567890'\n",
    "lowlet = 'abcdefghijklmnopqrstuvwxyz'\n",
    "capslet = 'ABCDEFGHIJKLMNOPQRSTUVWXYZ'\n",
    "verysymb = '!@#$%^&*()-+'\n",
    "mydata = [numb[randint(0,len(numb)-1)],lowlet[randint(0,len(lowlet)-1)],capslet[randint(0,len(capslet)-1)],verysymb[randint(0,len(verysymb)-1)]]\n",
    "print(mydata)\n",
    "for i in range(0,12):\n",
    "    mypass.append(mydata[randint(0,3)])\n",
    "random.shuffle(mypass)\n",
    "print(''.join(mypass))"
   ]
  },
  {
   "cell_type": "code",
   "execution_count": 32,
   "metadata": {},
   "outputs": [
    {
     "name": "stdout",
     "output_type": "stream",
     "text": [
      "X3lf!F^ljW$e\n"
     ]
    }
   ],
   "source": [
    "mypass_2 = []\n",
    "chars = '1234567890abcdefghijklmnopqrstuvwxyzABCDEFGHIJKLMNOPQRSTUVWXYZ!@#$%^&*()-+'\n",
    "for i in range(0,12):\n",
    "    mypass_2.append(random.choice(chars))\n",
    "print(''.join(mypass_2))"
   ]
  }
 ],
 "metadata": {
  "kernelspec": {
   "display_name": "Python 3",
   "language": "python",
   "name": "python3"
  },
  "language_info": {
   "codemirror_mode": {
    "name": "ipython",
    "version": 3
   },
   "file_extension": ".py",
   "mimetype": "text/x-python",
   "name": "python",
   "nbconvert_exporter": "python",
   "pygments_lexer": "ipython3",
   "version": "3.7.6"
  }
 },
 "nbformat": 4,
 "nbformat_minor": 4
}
